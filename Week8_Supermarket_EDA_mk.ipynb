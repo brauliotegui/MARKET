{
 "cells": [
  {
   "cell_type": "markdown",
   "metadata": {},
   "source": [
    "# EDA of supermarket customer behaviour in a fictional supermarket\n",
    "\n",
    "- sections are numbered according to the task given in Data Analysis webpage: https://krspiced.pythonanywhere.com/chapters/project_markov/data_analysis.html \\\n",
    "- dataframes are numbered according to the different tasks, if additional dataframes are necessary, they are labeled with _small alphabetical characters \n",
    "\n"
   ]
  },
  {
   "cell_type": "code",
   "execution_count": 1,
   "metadata": {},
   "outputs": [],
   "source": [
    "import numpy as np\n",
    "import pandas as pd\n",
    "import seaborn as sns\n",
    "from matplotlib import pyplot as plt"
   ]
  },
  {
   "cell_type": "markdown",
   "metadata": {},
   "source": [
    "### read the data, starting by one day (monday) only"
   ]
  },
  {
   "cell_type": "code",
   "execution_count": 321,
   "metadata": {},
   "outputs": [
    {
     "data": {
      "text/html": [
       "<div>\n",
       "<style scoped>\n",
       "    .dataframe tbody tr th:only-of-type {\n",
       "        vertical-align: middle;\n",
       "    }\n",
       "\n",
       "    .dataframe tbody tr th {\n",
       "        vertical-align: top;\n",
       "    }\n",
       "\n",
       "    .dataframe thead th {\n",
       "        text-align: right;\n",
       "    }\n",
       "</style>\n",
       "<table border=\"1\" class=\"dataframe\">\n",
       "  <thead>\n",
       "    <tr style=\"text-align: right;\">\n",
       "      <th></th>\n",
       "      <th>timestamp</th>\n",
       "      <th>customer_no</th>\n",
       "      <th>location</th>\n",
       "    </tr>\n",
       "    <tr>\n",
       "      <th>datetime</th>\n",
       "      <th></th>\n",
       "      <th></th>\n",
       "      <th></th>\n",
       "    </tr>\n",
       "  </thead>\n",
       "  <tbody>\n",
       "    <tr>\n",
       "      <th>2019-09-02 07:03:00</th>\n",
       "      <td>2019-09-02 07:03:00</td>\n",
       "      <td>1</td>\n",
       "      <td>dairy</td>\n",
       "    </tr>\n",
       "    <tr>\n",
       "      <th>2019-09-02 07:03:00</th>\n",
       "      <td>2019-09-02 07:03:00</td>\n",
       "      <td>2</td>\n",
       "      <td>dairy</td>\n",
       "    </tr>\n",
       "    <tr>\n",
       "      <th>2019-09-02 07:04:00</th>\n",
       "      <td>2019-09-02 07:04:00</td>\n",
       "      <td>3</td>\n",
       "      <td>dairy</td>\n",
       "    </tr>\n",
       "    <tr>\n",
       "      <th>2019-09-02 07:04:00</th>\n",
       "      <td>2019-09-02 07:04:00</td>\n",
       "      <td>4</td>\n",
       "      <td>dairy</td>\n",
       "    </tr>\n",
       "    <tr>\n",
       "      <th>2019-09-02 07:04:00</th>\n",
       "      <td>2019-09-02 07:04:00</td>\n",
       "      <td>5</td>\n",
       "      <td>spices</td>\n",
       "    </tr>\n",
       "  </tbody>\n",
       "</table>\n",
       "</div>"
      ],
      "text/plain": [
       "                              timestamp  customer_no location\n",
       "datetime                                                     \n",
       "2019-09-02 07:03:00 2019-09-02 07:03:00            1    dairy\n",
       "2019-09-02 07:03:00 2019-09-02 07:03:00            2    dairy\n",
       "2019-09-02 07:04:00 2019-09-02 07:04:00            3    dairy\n",
       "2019-09-02 07:04:00 2019-09-02 07:04:00            4    dairy\n",
       "2019-09-02 07:04:00 2019-09-02 07:04:00            5   spices"
      ]
     },
     "execution_count": 321,
     "metadata": {},
     "output_type": "execute_result"
    }
   ],
   "source": [
    "df = pd.read_csv('monday.csv', sep = ';')\n",
    "df['datetime']=pd.to_datetime(df['timestamp'])\n",
    "df['timestamp']=pd.to_datetime(df['timestamp'])\n",
    "df.set_index('datetime', inplace = True)\n",
    "df.head()"
   ]
  },
  {
   "cell_type": "markdown",
   "metadata": {},
   "source": [
    "## 1. total number of customers at each station (and over time)"
   ]
  },
  {
   "cell_type": "code",
   "execution_count": 390,
   "metadata": {},
   "outputs": [
    {
     "data": {
      "text/plain": [
       "<matplotlib.axes._subplots.AxesSubplot at 0x1a25c52610>"
      ]
     },
     "execution_count": 390,
     "metadata": {},
     "output_type": "execute_result"
    },
    {
     "data": {
      "image/png": "[encoded data removed]",
      "text/plain": [
       "<Figure size 432x288 with 1 Axes>"
      ]
     },
     "metadata": {
      "needs_background": "light"
     },
     "output_type": "display_data"
    }
   ],
   "source": [
    "df.groupby('location')['customer_no'].count().plot()"
   ]
  },
  {
   "cell_type": "markdown",
   "metadata": {},
   "source": [
    "### customers at different stations over time is aggregated to hours"
   ]
  },
  {
   "cell_type": "code",
   "execution_count": 396,
   "metadata": {
    "scrolled": true
   },
   "outputs": [
    {
     "data": {
      "text/html": [
       "<div>\n",
       "<style scoped>\n",
       "    .dataframe tbody tr th:only-of-type {\n",
       "        vertical-align: middle;\n",
       "    }\n",
       "\n",
       "    .dataframe tbody tr th {\n",
       "        vertical-align: top;\n",
       "    }\n",
       "\n",
       "    .dataframe thead th {\n",
       "        text-align: right;\n",
       "    }\n",
       "</style>\n",
       "<table border=\"1\" class=\"dataframe\">\n",
       "  <thead>\n",
       "    <tr style=\"text-align: right;\">\n",
       "      <th></th>\n",
       "      <th>location</th>\n",
       "      <th>hour</th>\n",
       "      <th>customer_no</th>\n",
       "    </tr>\n",
       "  </thead>\n",
       "  <tbody>\n",
       "    <tr>\n",
       "      <th>0</th>\n",
       "      <td>checkout</td>\n",
       "      <td>7</td>\n",
       "      <td>92</td>\n",
       "    </tr>\n",
       "    <tr>\n",
       "      <th>1</th>\n",
       "      <td>checkout</td>\n",
       "      <td>8</td>\n",
       "      <td>112</td>\n",
       "    </tr>\n",
       "    <tr>\n",
       "      <th>2</th>\n",
       "      <td>checkout</td>\n",
       "      <td>9</td>\n",
       "      <td>85</td>\n",
       "    </tr>\n",
       "    <tr>\n",
       "      <th>3</th>\n",
       "      <td>checkout</td>\n",
       "      <td>10</td>\n",
       "      <td>90</td>\n",
       "    </tr>\n",
       "    <tr>\n",
       "      <th>4</th>\n",
       "      <td>checkout</td>\n",
       "      <td>11</td>\n",
       "      <td>55</td>\n",
       "    </tr>\n",
       "  </tbody>\n",
       "</table>\n",
       "</div>"
      ],
      "text/plain": [
       "   location  hour  customer_no\n",
       "0  checkout     7           92\n",
       "1  checkout     8          112\n",
       "2  checkout     9           85\n",
       "3  checkout    10           90\n",
       "4  checkout    11           55"
      ]
     },
     "execution_count": 396,
     "metadata": {},
     "output_type": "execute_result"
    }
   ],
   "source": [
    "df1 = df.copy()\n",
    "df1['hour'] = df1['timestamp'].dt.hour\n",
    "df1_a = pd.DataFrame(df1.groupby(['location', 'hour'])['customer_no'].count().reset_index())\n",
    "df1_a.head()"
   ]
  },
  {
   "cell_type": "code",
   "execution_count": 397,
   "metadata": {},
   "outputs": [
    {
     "data": {
      "text/plain": [
       "Text(0, 0.5, 'number of customers')"
      ]
     },
     "execution_count": 397,
     "metadata": {},
     "output_type": "execute_result"
    },
    {
     "data": {
      "image/png": "[encoded data removed]",
      "text/plain": [
       "<Figure size 576x432 with 1 Axes>"
      ]
     },
     "metadata": {
      "needs_background": "light"
     },
     "output_type": "display_data"
    }
   ],
   "source": [
    "plt.figure(figsize = (8,6))\n",
    "sns.lineplot(x = 'hour', y = 'customer_no', data = df1_a, hue = 'location')\n",
    "plt.title('customer location per hour') \n",
    "plt.ylabel('number of customers')"
   ]
  },
  {
   "cell_type": "markdown",
   "metadata": {},
   "source": [
    "## 2. time spent at each station \n",
    "\n",
    "### plot average time[minutes] per station"
   ]
  },
  {
   "cell_type": "code",
   "execution_count": 398,
   "metadata": {},
   "outputs": [],
   "source": [
    "df2 = df.groupby('customer_no').resample('1T').ffill()"
   ]
  },
  {
   "cell_type": "code",
   "execution_count": 400,
   "metadata": {},
   "outputs": [
    {
     "data": {
      "text/html": [
       "<div>\n",
       "<style scoped>\n",
       "    .dataframe tbody tr th:only-of-type {\n",
       "        vertical-align: middle;\n",
       "    }\n",
       "\n",
       "    .dataframe tbody tr th {\n",
       "        vertical-align: top;\n",
       "    }\n",
       "\n",
       "    .dataframe thead th {\n",
       "        text-align: right;\n",
       "    }\n",
       "</style>\n",
       "<table border=\"1\" class=\"dataframe\">\n",
       "  <thead>\n",
       "    <tr style=\"text-align: right;\">\n",
       "      <th></th>\n",
       "      <th></th>\n",
       "      <th>timestamp</th>\n",
       "      <th>location</th>\n",
       "      <th>prev_loc</th>\n",
       "    </tr>\n",
       "    <tr>\n",
       "      <th>customer_no</th>\n",
       "      <th>datetime</th>\n",
       "      <th></th>\n",
       "      <th></th>\n",
       "      <th></th>\n",
       "    </tr>\n",
       "  </thead>\n",
       "  <tbody>\n",
       "    <tr>\n",
       "      <th rowspan=\"3\" valign=\"top\">1</th>\n",
       "      <th>2019-09-02 07:03:00</th>\n",
       "      <td>2019-09-02 07:03:00</td>\n",
       "      <td>dairy</td>\n",
       "      <td>NaN</td>\n",
       "    </tr>\n",
       "    <tr>\n",
       "      <th>2019-09-02 07:04:00</th>\n",
       "      <td>2019-09-02 07:03:00</td>\n",
       "      <td>dairy</td>\n",
       "      <td>NaN</td>\n",
       "    </tr>\n",
       "    <tr>\n",
       "      <th>2019-09-02 07:05:00</th>\n",
       "      <td>2019-09-02 07:05:00</td>\n",
       "      <td>checkout</td>\n",
       "      <td>dairy</td>\n",
       "    </tr>\n",
       "    <tr>\n",
       "      <th rowspan=\"2\" valign=\"top\">2</th>\n",
       "      <th>2019-09-02 07:03:00</th>\n",
       "      <td>2019-09-02 07:03:00</td>\n",
       "      <td>dairy</td>\n",
       "      <td>NaN</td>\n",
       "    </tr>\n",
       "    <tr>\n",
       "      <th>2019-09-02 07:04:00</th>\n",
       "      <td>2019-09-02 07:03:00</td>\n",
       "      <td>dairy</td>\n",
       "      <td>NaN</td>\n",
       "    </tr>\n",
       "  </tbody>\n",
       "</table>\n",
       "</div>"
      ],
      "text/plain": [
       "                                          timestamp  location prev_loc\n",
       "customer_no datetime                                                  \n",
       "1           2019-09-02 07:03:00 2019-09-02 07:03:00     dairy      NaN\n",
       "            2019-09-02 07:04:00 2019-09-02 07:03:00     dairy      NaN\n",
       "            2019-09-02 07:05:00 2019-09-02 07:05:00  checkout    dairy\n",
       "2           2019-09-02 07:03:00 2019-09-02 07:03:00     dairy      NaN\n",
       "            2019-09-02 07:04:00 2019-09-02 07:03:00     dairy      NaN"
      ]
     },
     "execution_count": 400,
     "metadata": {},
     "output_type": "execute_result"
    }
   ],
   "source": [
    "df2.drop(columns = 'customer_no', inplace = True)\n",
    "df2.head()"
   ]
  },
  {
   "cell_type": "code",
   "execution_count": 401,
   "metadata": {},
   "outputs": [
    {
     "data": {
      "text/html": [
       "<div>\n",
       "<style scoped>\n",
       "    .dataframe tbody tr th:only-of-type {\n",
       "        vertical-align: middle;\n",
       "    }\n",
       "\n",
       "    .dataframe tbody tr th {\n",
       "        vertical-align: top;\n",
       "    }\n",
       "\n",
       "    .dataframe thead th {\n",
       "        text-align: right;\n",
       "    }\n",
       "</style>\n",
       "<table border=\"1\" class=\"dataframe\">\n",
       "  <thead>\n",
       "    <tr style=\"text-align: right;\">\n",
       "      <th></th>\n",
       "      <th>customer_no</th>\n",
       "      <th>location</th>\n",
       "      <th>minutes</th>\n",
       "    </tr>\n",
       "  </thead>\n",
       "  <tbody>\n",
       "    <tr>\n",
       "      <th>0</th>\n",
       "      <td>1</td>\n",
       "      <td>checkout</td>\n",
       "      <td>1</td>\n",
       "    </tr>\n",
       "    <tr>\n",
       "      <th>1</th>\n",
       "      <td>1</td>\n",
       "      <td>dairy</td>\n",
       "      <td>2</td>\n",
       "    </tr>\n",
       "    <tr>\n",
       "      <th>2</th>\n",
       "      <td>2</td>\n",
       "      <td>checkout</td>\n",
       "      <td>1</td>\n",
       "    </tr>\n",
       "    <tr>\n",
       "      <th>3</th>\n",
       "      <td>2</td>\n",
       "      <td>dairy</td>\n",
       "      <td>3</td>\n",
       "    </tr>\n",
       "    <tr>\n",
       "      <th>4</th>\n",
       "      <td>3</td>\n",
       "      <td>checkout</td>\n",
       "      <td>1</td>\n",
       "    </tr>\n",
       "  </tbody>\n",
       "</table>\n",
       "</div>"
      ],
      "text/plain": [
       "   customer_no  location  minutes\n",
       "0            1  checkout        1\n",
       "1            1     dairy        2\n",
       "2            2  checkout        1\n",
       "3            2     dairy        3\n",
       "4            3  checkout        1"
      ]
     },
     "execution_count": 401,
     "metadata": {},
     "output_type": "execute_result"
    }
   ],
   "source": [
    "df2_a= df2.groupby(['customer_no', 'location'])[['timestamp']].count()\n",
    "df2_a.reset_index(inplace = True)\n",
    "df2_a.columns = ['customer_no', 'location', 'minutes']\n",
    "df2_a.head()"
   ]
  },
  {
   "cell_type": "code",
   "execution_count": 402,
   "metadata": {},
   "outputs": [
    {
     "data": {
      "text/plain": [
       "Text(0, 0.5, 'minutes spend')"
      ]
     },
     "execution_count": 402,
     "metadata": {},
     "output_type": "execute_result"
    },
    {
     "data": {
      "image/png": "[encoded data removed]",
      "text/plain": [
       "<Figure size 576x432 with 1 Axes>"
      ]
     },
     "metadata": {
      "needs_background": "light"
     },
     "output_type": "display_data"
    }
   ],
   "source": [
    "plt.figure(figsize = (8,6))\n",
    "sns.violinplot(x = 'location', y = 'minutes', data = df2_a )\n",
    "plt.title('average time in location')\n",
    "plt.ylabel('minutes spend')"
   ]
  },
  {
   "cell_type": "markdown",
   "metadata": {},
   "source": [
    "## 3. find the average time customers spend in the supermarket"
   ]
  },
  {
   "cell_type": "code",
   "execution_count": 405,
   "metadata": {},
   "outputs": [
    {
     "data": {
      "text/plain": [
       "Timedelta('0 days 00:06:26.371803')"
      ]
     },
     "execution_count": 405,
     "metadata": {},
     "output_type": "execute_result"
    }
   ],
   "source": [
    "df3 = pd.DataFrame((df.groupby('customer_no')['timestamp'].max())-(df.groupby('customer_no')['timestamp'].min()))\n",
    "avg_time = ((df.groupby('customer_no')['timestamp'].max())-(df.groupby('customer_no')['timestamp'].min())).mean()\n",
    "avg_time"
   ]
  },
  {
   "cell_type": "code",
   "execution_count": 430,
   "metadata": {},
   "outputs": [
    {
     "data": {
      "text/plain": [
       "array([[<matplotlib.axes._subplots.AxesSubplot object at 0x1a27aa6450>]],\n",
       "      dtype=object)"
      ]
     },
     "execution_count": 430,
     "metadata": {},
     "output_type": "execute_result"
    },
    {
     "data": {
      "image/png": "[encoded data removed]",
      "text/plain": [
       "<Figure size 432x288 with 1 Axes>"
      ]
     },
     "metadata": {
      "needs_background": "light"
     },
     "output_type": "display_data"
    }
   ],
   "source": [
    "time_spent = (df.groupby('customer_no')['timestamp'].max())-(df.groupby('customer_no')['timestamp'].min())\n",
    "sum_time_spent = pd.DataFrame(time_spent.reset_index().groupby('timestamp')['customer_no'].count())\n",
    "sum_time_spent.reset_index(inplace = True)\n",
    "sum_time_spent.hist(bins = 25)"
   ]
  },
  {
   "cell_type": "markdown",
   "metadata": {},
   "source": [
    "### same as above, just with seaborn, which does not display the y-axis correctly (due to the timedelta-type)"
   ]
  },
  {
   "cell_type": "code",
   "execution_count": 411,
   "metadata": {},
   "outputs": [
    {
     "data": {
      "text/plain": [
       "Text(0.5, 0, 'number of customers')"
      ]
     },
     "execution_count": 411,
     "metadata": {},
     "output_type": "execute_result"
    },
    {
     "data": {
      "image/png": "[encoded data removed]",
      "text/plain": [
       "<Figure size 576x432 with 1 Axes>"
      ]
     },
     "metadata": {
      "needs_background": "light"
     },
     "output_type": "display_data"
    }
   ],
   "source": [
    "plt.figure(figsize = (8,6))\n",
    "sns.distplot(sum_time_spend)\n",
    "plt.title('average time in supermarket')\n",
    "plt.xlabel('number of customers')\n",
    "plt.ylabel('')"
   ]
  },
  {
   "cell_type": "markdown",
   "metadata": {},
   "source": [
    "## 4. find the first location each customer attends and also each previous location"
   ]
  },
  {
   "cell_type": "code",
   "execution_count": 431,
   "metadata": {},
   "outputs": [
    {
     "data": {
      "text/html": [
       "<div>\n",
       "<style scoped>\n",
       "    .dataframe tbody tr th:only-of-type {\n",
       "        vertical-align: middle;\n",
       "    }\n",
       "\n",
       "    .dataframe tbody tr th {\n",
       "        vertical-align: top;\n",
       "    }\n",
       "\n",
       "    .dataframe thead th {\n",
       "        text-align: right;\n",
       "    }\n",
       "</style>\n",
       "<table border=\"1\" class=\"dataframe\">\n",
       "  <thead>\n",
       "    <tr style=\"text-align: right;\">\n",
       "      <th></th>\n",
       "      <th>timestamp</th>\n",
       "      <th>customer_no</th>\n",
       "      <th>location</th>\n",
       "      <th>prev_loc</th>\n",
       "    </tr>\n",
       "    <tr>\n",
       "      <th>datetime</th>\n",
       "      <th></th>\n",
       "      <th></th>\n",
       "      <th></th>\n",
       "      <th></th>\n",
       "    </tr>\n",
       "  </thead>\n",
       "  <tbody>\n",
       "    <tr>\n",
       "      <th>2019-09-02 07:03:00</th>\n",
       "      <td>2019-09-02 07:03:00</td>\n",
       "      <td>1</td>\n",
       "      <td>dairy</td>\n",
       "      <td>NaN</td>\n",
       "    </tr>\n",
       "    <tr>\n",
       "      <th>2019-09-02 07:03:00</th>\n",
       "      <td>2019-09-02 07:03:00</td>\n",
       "      <td>2</td>\n",
       "      <td>dairy</td>\n",
       "      <td>NaN</td>\n",
       "    </tr>\n",
       "    <tr>\n",
       "      <th>2019-09-02 07:04:00</th>\n",
       "      <td>2019-09-02 07:04:00</td>\n",
       "      <td>3</td>\n",
       "      <td>dairy</td>\n",
       "      <td>NaN</td>\n",
       "    </tr>\n",
       "    <tr>\n",
       "      <th>2019-09-02 07:04:00</th>\n",
       "      <td>2019-09-02 07:04:00</td>\n",
       "      <td>4</td>\n",
       "      <td>dairy</td>\n",
       "      <td>NaN</td>\n",
       "    </tr>\n",
       "    <tr>\n",
       "      <th>2019-09-02 07:04:00</th>\n",
       "      <td>2019-09-02 07:04:00</td>\n",
       "      <td>5</td>\n",
       "      <td>spices</td>\n",
       "      <td>NaN</td>\n",
       "    </tr>\n",
       "  </tbody>\n",
       "</table>\n",
       "</div>"
      ],
      "text/plain": [
       "                              timestamp  customer_no location prev_loc\n",
       "datetime                                                              \n",
       "2019-09-02 07:03:00 2019-09-02 07:03:00            1    dairy      NaN\n",
       "2019-09-02 07:03:00 2019-09-02 07:03:00            2    dairy      NaN\n",
       "2019-09-02 07:04:00 2019-09-02 07:04:00            3    dairy      NaN\n",
       "2019-09-02 07:04:00 2019-09-02 07:04:00            4    dairy      NaN\n",
       "2019-09-02 07:04:00 2019-09-02 07:04:00            5   spices      NaN"
      ]
     },
     "execution_count": 431,
     "metadata": {},
     "output_type": "execute_result"
    }
   ],
   "source": [
    "df4 = df.copy()\n",
    "df4['prev_loc'] = df4.groupby('customer_no')['location'].shift(1)\n",
    "df4.head()"
   ]
  },
  {
   "cell_type": "code",
   "execution_count": 432,
   "metadata": {},
   "outputs": [
    {
     "data": {
      "text/plain": [
       "<matplotlib.axes._subplots.AxesSubplot at 0x1a278e6950>"
      ]
     },
     "execution_count": 432,
     "metadata": {},
     "output_type": "execute_result"
    },
    {
     "data": {
      "image/png": "[encoded data removed]",
      "text/plain": [
       "<Figure size 432x288 with 1 Axes>"
      ]
     },
     "metadata": {
      "needs_background": "light"
     },
     "output_type": "display_data"
    }
   ],
   "source": [
    "first_loc = df.loc[df4['prev_loc'].isna()].groupby('location')[['customer_no']].count()\n",
    "first_loc.reset_index(inplace = True)\n",
    "sns.barplot( x = 'location', y = 'customer_no', data = first_loc )"
   ]
  },
  {
   "cell_type": "code",
   "execution_count": 433,
   "metadata": {},
   "outputs": [
    {
     "data": {
      "text/html": [
       "<div>\n",
       "<style scoped>\n",
       "    .dataframe tbody tr th:only-of-type {\n",
       "        vertical-align: middle;\n",
       "    }\n",
       "\n",
       "    .dataframe tbody tr th {\n",
       "        vertical-align: top;\n",
       "    }\n",
       "\n",
       "    .dataframe thead th {\n",
       "        text-align: right;\n",
       "    }\n",
       "</style>\n",
       "<table border=\"1\" class=\"dataframe\">\n",
       "  <thead>\n",
       "    <tr style=\"text-align: right;\">\n",
       "      <th></th>\n",
       "      <th></th>\n",
       "      <th>timestamp</th>\n",
       "      <th>customer_no</th>\n",
       "      <th>location</th>\n",
       "      <th>prev_loc</th>\n",
       "    </tr>\n",
       "    <tr>\n",
       "      <th>customer_no</th>\n",
       "      <th>datetime</th>\n",
       "      <th></th>\n",
       "      <th></th>\n",
       "      <th></th>\n",
       "      <th></th>\n",
       "    </tr>\n",
       "  </thead>\n",
       "  <tbody>\n",
       "    <tr>\n",
       "      <th rowspan=\"3\" valign=\"top\">1</th>\n",
       "      <th>2019-09-02 07:03:00</th>\n",
       "      <td>2019-09-02 07:03:00</td>\n",
       "      <td>1</td>\n",
       "      <td>dairy</td>\n",
       "      <td>NaN</td>\n",
       "    </tr>\n",
       "    <tr>\n",
       "      <th>2019-09-02 07:04:00</th>\n",
       "      <td>2019-09-02 07:03:00</td>\n",
       "      <td>1</td>\n",
       "      <td>dairy</td>\n",
       "      <td>NaN</td>\n",
       "    </tr>\n",
       "    <tr>\n",
       "      <th>2019-09-02 07:05:00</th>\n",
       "      <td>2019-09-02 07:05:00</td>\n",
       "      <td>1</td>\n",
       "      <td>checkout</td>\n",
       "      <td>dairy</td>\n",
       "    </tr>\n",
       "    <tr>\n",
       "      <th rowspan=\"2\" valign=\"top\">2</th>\n",
       "      <th>2019-09-02 07:03:00</th>\n",
       "      <td>2019-09-02 07:03:00</td>\n",
       "      <td>2</td>\n",
       "      <td>dairy</td>\n",
       "      <td>NaN</td>\n",
       "    </tr>\n",
       "    <tr>\n",
       "      <th>2019-09-02 07:04:00</th>\n",
       "      <td>2019-09-02 07:03:00</td>\n",
       "      <td>2</td>\n",
       "      <td>dairy</td>\n",
       "      <td>NaN</td>\n",
       "    </tr>\n",
       "  </tbody>\n",
       "</table>\n",
       "</div>"
      ],
      "text/plain": [
       "                                          timestamp  customer_no  location  \\\n",
       "customer_no datetime                                                         \n",
       "1           2019-09-02 07:03:00 2019-09-02 07:03:00            1     dairy   \n",
       "            2019-09-02 07:04:00 2019-09-02 07:03:00            1     dairy   \n",
       "            2019-09-02 07:05:00 2019-09-02 07:05:00            1  checkout   \n",
       "2           2019-09-02 07:03:00 2019-09-02 07:03:00            2     dairy   \n",
       "            2019-09-02 07:04:00 2019-09-02 07:03:00            2     dairy   \n",
       "\n",
       "                                prev_loc  \n",
       "customer_no datetime                      \n",
       "1           2019-09-02 07:03:00      NaN  \n",
       "            2019-09-02 07:04:00      NaN  \n",
       "            2019-09-02 07:05:00    dairy  \n",
       "2           2019-09-02 07:03:00      NaN  \n",
       "            2019-09-02 07:04:00      NaN  "
      ]
     },
     "execution_count": 433,
     "metadata": {},
     "output_type": "execute_result"
    }
   ],
   "source": [
    "df4_a = df4.groupby('customer_no').resample('1T').ffill()\n",
    "df4_a.head()"
   ]
  },
  {
   "cell_type": "code",
   "execution_count": 434,
   "metadata": {},
   "outputs": [
    {
     "data": {
      "text/html": [
       "<div>\n",
       "<style scoped>\n",
       "    .dataframe tbody tr th:only-of-type {\n",
       "        vertical-align: middle;\n",
       "    }\n",
       "\n",
       "    .dataframe tbody tr th {\n",
       "        vertical-align: top;\n",
       "    }\n",
       "\n",
       "    .dataframe thead th {\n",
       "        text-align: right;\n",
       "    }\n",
       "</style>\n",
       "<table border=\"1\" class=\"dataframe\">\n",
       "  <thead>\n",
       "    <tr style=\"text-align: right;\">\n",
       "      <th></th>\n",
       "      <th>customer_no</th>\n",
       "      <th>datetime</th>\n",
       "      <th>timestamp</th>\n",
       "      <th>location</th>\n",
       "      <th>prev_loc</th>\n",
       "    </tr>\n",
       "  </thead>\n",
       "  <tbody>\n",
       "    <tr>\n",
       "      <th>0</th>\n",
       "      <td>1</td>\n",
       "      <td>2019-09-02 07:03:00</td>\n",
       "      <td>2019-09-02 07:03:00</td>\n",
       "      <td>dairy</td>\n",
       "      <td>NaN</td>\n",
       "    </tr>\n",
       "    <tr>\n",
       "      <th>1</th>\n",
       "      <td>1</td>\n",
       "      <td>2019-09-02 07:04:00</td>\n",
       "      <td>2019-09-02 07:03:00</td>\n",
       "      <td>dairy</td>\n",
       "      <td>NaN</td>\n",
       "    </tr>\n",
       "    <tr>\n",
       "      <th>2</th>\n",
       "      <td>1</td>\n",
       "      <td>2019-09-02 07:05:00</td>\n",
       "      <td>2019-09-02 07:05:00</td>\n",
       "      <td>checkout</td>\n",
       "      <td>dairy</td>\n",
       "    </tr>\n",
       "    <tr>\n",
       "      <th>3</th>\n",
       "      <td>2</td>\n",
       "      <td>2019-09-02 07:03:00</td>\n",
       "      <td>2019-09-02 07:03:00</td>\n",
       "      <td>dairy</td>\n",
       "      <td>NaN</td>\n",
       "    </tr>\n",
       "    <tr>\n",
       "      <th>4</th>\n",
       "      <td>2</td>\n",
       "      <td>2019-09-02 07:04:00</td>\n",
       "      <td>2019-09-02 07:03:00</td>\n",
       "      <td>dairy</td>\n",
       "      <td>NaN</td>\n",
       "    </tr>\n",
       "  </tbody>\n",
       "</table>\n",
       "</div>"
      ],
      "text/plain": [
       "   customer_no            datetime           timestamp  location prev_loc\n",
       "0            1 2019-09-02 07:03:00 2019-09-02 07:03:00     dairy      NaN\n",
       "1            1 2019-09-02 07:04:00 2019-09-02 07:03:00     dairy      NaN\n",
       "2            1 2019-09-02 07:05:00 2019-09-02 07:05:00  checkout    dairy\n",
       "3            2 2019-09-02 07:03:00 2019-09-02 07:03:00     dairy      NaN\n",
       "4            2 2019-09-02 07:04:00 2019-09-02 07:03:00     dairy      NaN"
      ]
     },
     "execution_count": 434,
     "metadata": {},
     "output_type": "execute_result"
    }
   ],
   "source": [
    "df4_a.drop('customer_no',axis = 1, inplace = True)\n",
    "df4_a.reset_index(inplace = True)\n",
    "df4_a.head()"
   ]
  },
  {
   "cell_type": "code",
   "execution_count": 435,
   "metadata": {},
   "outputs": [
    {
     "data": {
      "text/html": [
       "<div>\n",
       "<style scoped>\n",
       "    .dataframe tbody tr th:only-of-type {\n",
       "        vertical-align: middle;\n",
       "    }\n",
       "\n",
       "    .dataframe tbody tr th {\n",
       "        vertical-align: top;\n",
       "    }\n",
       "\n",
       "    .dataframe thead th {\n",
       "        text-align: right;\n",
       "    }\n",
       "</style>\n",
       "<table border=\"1\" class=\"dataframe\">\n",
       "  <thead>\n",
       "    <tr style=\"text-align: right;\">\n",
       "      <th></th>\n",
       "      <th>customer_no</th>\n",
       "      <th>datetime</th>\n",
       "      <th>timestamp</th>\n",
       "      <th>location</th>\n",
       "      <th>prev_loc</th>\n",
       "    </tr>\n",
       "  </thead>\n",
       "  <tbody>\n",
       "    <tr>\n",
       "      <th>0</th>\n",
       "      <td>1</td>\n",
       "      <td>2019-09-02 07:03:00</td>\n",
       "      <td>2019-09-02 07:03:00</td>\n",
       "      <td>dairy</td>\n",
       "      <td>NaN</td>\n",
       "    </tr>\n",
       "    <tr>\n",
       "      <th>1</th>\n",
       "      <td>1</td>\n",
       "      <td>2019-09-02 07:04:00</td>\n",
       "      <td>2019-09-02 07:03:00</td>\n",
       "      <td>dairy</td>\n",
       "      <td>NaN</td>\n",
       "    </tr>\n",
       "    <tr>\n",
       "      <th>3</th>\n",
       "      <td>2</td>\n",
       "      <td>2019-09-02 07:03:00</td>\n",
       "      <td>2019-09-02 07:03:00</td>\n",
       "      <td>dairy</td>\n",
       "      <td>NaN</td>\n",
       "    </tr>\n",
       "    <tr>\n",
       "      <th>4</th>\n",
       "      <td>2</td>\n",
       "      <td>2019-09-02 07:04:00</td>\n",
       "      <td>2019-09-02 07:03:00</td>\n",
       "      <td>dairy</td>\n",
       "      <td>NaN</td>\n",
       "    </tr>\n",
       "    <tr>\n",
       "      <th>5</th>\n",
       "      <td>2</td>\n",
       "      <td>2019-09-02 07:05:00</td>\n",
       "      <td>2019-09-02 07:03:00</td>\n",
       "      <td>dairy</td>\n",
       "      <td>NaN</td>\n",
       "    </tr>\n",
       "    <tr>\n",
       "      <th>...</th>\n",
       "      <td>...</td>\n",
       "      <td>...</td>\n",
       "      <td>...</td>\n",
       "      <td>...</td>\n",
       "      <td>...</td>\n",
       "    </tr>\n",
       "    <tr>\n",
       "      <th>10759</th>\n",
       "      <td>1443</td>\n",
       "      <td>2019-09-02 21:48:00</td>\n",
       "      <td>2019-09-02 21:48:00</td>\n",
       "      <td>dairy</td>\n",
       "      <td>fruit</td>\n",
       "    </tr>\n",
       "    <tr>\n",
       "      <th>10760</th>\n",
       "      <td>1444</td>\n",
       "      <td>2019-09-02 21:48:00</td>\n",
       "      <td>2019-09-02 21:48:00</td>\n",
       "      <td>spices</td>\n",
       "      <td>NaN</td>\n",
       "    </tr>\n",
       "    <tr>\n",
       "      <th>10762</th>\n",
       "      <td>1445</td>\n",
       "      <td>2019-09-02 21:49:00</td>\n",
       "      <td>2019-09-02 21:49:00</td>\n",
       "      <td>dairy</td>\n",
       "      <td>NaN</td>\n",
       "    </tr>\n",
       "    <tr>\n",
       "      <th>10763</th>\n",
       "      <td>1446</td>\n",
       "      <td>2019-09-02 21:50:00</td>\n",
       "      <td>2019-09-02 21:50:00</td>\n",
       "      <td>dairy</td>\n",
       "      <td>NaN</td>\n",
       "    </tr>\n",
       "    <tr>\n",
       "      <th>10764</th>\n",
       "      <td>1447</td>\n",
       "      <td>2019-09-02 21:50:00</td>\n",
       "      <td>2019-09-02 21:50:00</td>\n",
       "      <td>fruit</td>\n",
       "      <td>NaN</td>\n",
       "    </tr>\n",
       "  </tbody>\n",
       "</table>\n",
       "<p>9328 rows × 5 columns</p>\n",
       "</div>"
      ],
      "text/plain": [
       "       customer_no            datetime           timestamp location prev_loc\n",
       "0                1 2019-09-02 07:03:00 2019-09-02 07:03:00    dairy      NaN\n",
       "1                1 2019-09-02 07:04:00 2019-09-02 07:03:00    dairy      NaN\n",
       "3                2 2019-09-02 07:03:00 2019-09-02 07:03:00    dairy      NaN\n",
       "4                2 2019-09-02 07:04:00 2019-09-02 07:03:00    dairy      NaN\n",
       "5                2 2019-09-02 07:05:00 2019-09-02 07:03:00    dairy      NaN\n",
       "...            ...                 ...                 ...      ...      ...\n",
       "10759         1443 2019-09-02 21:48:00 2019-09-02 21:48:00    dairy    fruit\n",
       "10760         1444 2019-09-02 21:48:00 2019-09-02 21:48:00   spices      NaN\n",
       "10762         1445 2019-09-02 21:49:00 2019-09-02 21:49:00    dairy      NaN\n",
       "10763         1446 2019-09-02 21:50:00 2019-09-02 21:50:00    dairy      NaN\n",
       "10764         1447 2019-09-02 21:50:00 2019-09-02 21:50:00    fruit      NaN\n",
       "\n",
       "[9328 rows x 5 columns]"
      ]
     },
     "execution_count": 435,
     "metadata": {},
     "output_type": "execute_result"
    }
   ],
   "source": [
    "df4_b = df4_a.loc[df4_a['location']!= 'checkout']\n",
    "df4_b"
   ]
  },
  {
   "cell_type": "markdown",
   "metadata": {},
   "source": [
    "### plot time spent at first and all the other locations"
   ]
  },
  {
   "cell_type": "code",
   "execution_count": 436,
   "metadata": {},
   "outputs": [
    {
     "data": {
      "text/plain": [
       "array([[<matplotlib.axes._subplots.AxesSubplot object at 0x1a27458f10>]],\n",
       "      dtype=object)"
      ]
     },
     "execution_count": 436,
     "metadata": {},
     "output_type": "execute_result"
    },
    {
     "data": {
      "image/png": "[encoded data removed]",
      "text/plain": [
       "<Figure size 432x288 with 1 Axes>"
      ]
     },
     "metadata": {
      "needs_background": "light"
     },
     "output_type": "display_data"
    }
   ],
   "source": [
    "first_loc = pd.DataFrame(df4_b.loc[df_full2['prev_loc'].isna()].groupby('customer_no')['timestamp'].count())\n",
    "first_loc.hist(bins = 30)"
   ]
  },
  {
   "cell_type": "code",
   "execution_count": 437,
   "metadata": {},
   "outputs": [
    {
     "data": {
      "text/plain": [
       "array([[<matplotlib.axes._subplots.AxesSubplot object at 0x1a27216a50>]],\n",
       "      dtype=object)"
      ]
     },
     "execution_count": 437,
     "metadata": {},
     "output_type": "execute_result"
    },
    {
     "data": {
      "image/png": "[encoded data removed]",
      "text/plain": [
       "<Figure size 432x288 with 1 Axes>"
      ]
     },
     "metadata": {
      "needs_background": "light"
     },
     "output_type": "display_data"
    }
   ],
   "source": [
    "other_loc = pd.DataFrame(df4_b.loc[df_full2['prev_loc'].notna()].groupby(['customer_no', 'location'])['timestamp'].count())\n",
    "other_loc.hist(bins = 30)"
   ]
  },
  {
   "cell_type": "markdown",
   "metadata": {},
   "source": [
    "## 5. calculate transition probabilities\n",
    "- two different methods, both with similar outcome"
   ]
  },
  {
   "cell_type": "code",
   "execution_count": 438,
   "metadata": {},
   "outputs": [],
   "source": [
    "df5 = df.groupby('customer_no').resample('1T').ffill()\n",
    "df5.drop(columns = 'customer_no', inplace = True)"
   ]
  },
  {
   "cell_type": "code",
   "execution_count": 439,
   "metadata": {},
   "outputs": [
    {
     "data": {
      "text/html": [
       "<div>\n",
       "<style scoped>\n",
       "    .dataframe tbody tr th:only-of-type {\n",
       "        vertical-align: middle;\n",
       "    }\n",
       "\n",
       "    .dataframe tbody tr th {\n",
       "        vertical-align: top;\n",
       "    }\n",
       "\n",
       "    .dataframe thead th {\n",
       "        text-align: right;\n",
       "    }\n",
       "</style>\n",
       "<table border=\"1\" class=\"dataframe\">\n",
       "  <thead>\n",
       "    <tr style=\"text-align: right;\">\n",
       "      <th></th>\n",
       "      <th>customer_no</th>\n",
       "      <th>datetime</th>\n",
       "      <th>timestamp</th>\n",
       "      <th>location</th>\n",
       "      <th>prev_loc</th>\n",
       "    </tr>\n",
       "  </thead>\n",
       "  <tbody>\n",
       "    <tr>\n",
       "      <th>0</th>\n",
       "      <td>1</td>\n",
       "      <td>2019-09-02 07:03:00</td>\n",
       "      <td>2019-09-02 07:03:00</td>\n",
       "      <td>dairy</td>\n",
       "      <td>NaN</td>\n",
       "    </tr>\n",
       "    <tr>\n",
       "      <th>1</th>\n",
       "      <td>1</td>\n",
       "      <td>2019-09-02 07:04:00</td>\n",
       "      <td>2019-09-02 07:03:00</td>\n",
       "      <td>dairy</td>\n",
       "      <td>dairy</td>\n",
       "    </tr>\n",
       "    <tr>\n",
       "      <th>2</th>\n",
       "      <td>1</td>\n",
       "      <td>2019-09-02 07:05:00</td>\n",
       "      <td>2019-09-02 07:05:00</td>\n",
       "      <td>checkout</td>\n",
       "      <td>dairy</td>\n",
       "    </tr>\n",
       "    <tr>\n",
       "      <th>3</th>\n",
       "      <td>2</td>\n",
       "      <td>2019-09-02 07:03:00</td>\n",
       "      <td>2019-09-02 07:03:00</td>\n",
       "      <td>dairy</td>\n",
       "      <td>NaN</td>\n",
       "    </tr>\n",
       "    <tr>\n",
       "      <th>4</th>\n",
       "      <td>2</td>\n",
       "      <td>2019-09-02 07:04:00</td>\n",
       "      <td>2019-09-02 07:03:00</td>\n",
       "      <td>dairy</td>\n",
       "      <td>dairy</td>\n",
       "    </tr>\n",
       "    <tr>\n",
       "      <th>5</th>\n",
       "      <td>2</td>\n",
       "      <td>2019-09-02 07:05:00</td>\n",
       "      <td>2019-09-02 07:03:00</td>\n",
       "      <td>dairy</td>\n",
       "      <td>dairy</td>\n",
       "    </tr>\n",
       "    <tr>\n",
       "      <th>6</th>\n",
       "      <td>2</td>\n",
       "      <td>2019-09-02 07:06:00</td>\n",
       "      <td>2019-09-02 07:06:00</td>\n",
       "      <td>checkout</td>\n",
       "      <td>dairy</td>\n",
       "    </tr>\n",
       "    <tr>\n",
       "      <th>7</th>\n",
       "      <td>3</td>\n",
       "      <td>2019-09-02 07:04:00</td>\n",
       "      <td>2019-09-02 07:04:00</td>\n",
       "      <td>dairy</td>\n",
       "      <td>NaN</td>\n",
       "    </tr>\n",
       "    <tr>\n",
       "      <th>8</th>\n",
       "      <td>3</td>\n",
       "      <td>2019-09-02 07:05:00</td>\n",
       "      <td>2019-09-02 07:04:00</td>\n",
       "      <td>dairy</td>\n",
       "      <td>dairy</td>\n",
       "    </tr>\n",
       "    <tr>\n",
       "      <th>9</th>\n",
       "      <td>3</td>\n",
       "      <td>2019-09-02 07:06:00</td>\n",
       "      <td>2019-09-02 07:06:00</td>\n",
       "      <td>checkout</td>\n",
       "      <td>dairy</td>\n",
       "    </tr>\n",
       "  </tbody>\n",
       "</table>\n",
       "</div>"
      ],
      "text/plain": [
       "   customer_no            datetime           timestamp  location prev_loc\n",
       "0            1 2019-09-02 07:03:00 2019-09-02 07:03:00     dairy      NaN\n",
       "1            1 2019-09-02 07:04:00 2019-09-02 07:03:00     dairy    dairy\n",
       "2            1 2019-09-02 07:05:00 2019-09-02 07:05:00  checkout    dairy\n",
       "3            2 2019-09-02 07:03:00 2019-09-02 07:03:00     dairy      NaN\n",
       "4            2 2019-09-02 07:04:00 2019-09-02 07:03:00     dairy    dairy\n",
       "5            2 2019-09-02 07:05:00 2019-09-02 07:03:00     dairy    dairy\n",
       "6            2 2019-09-02 07:06:00 2019-09-02 07:06:00  checkout    dairy\n",
       "7            3 2019-09-02 07:04:00 2019-09-02 07:04:00     dairy      NaN\n",
       "8            3 2019-09-02 07:05:00 2019-09-02 07:04:00     dairy    dairy\n",
       "9            3 2019-09-02 07:06:00 2019-09-02 07:06:00  checkout    dairy"
      ]
     },
     "execution_count": 439,
     "metadata": {},
     "output_type": "execute_result"
    }
   ],
   "source": [
    "df5.reset_index(inplace = True)\n",
    "df5['prev_loc'] = df5.groupby('customer_no')['location'].shift(1)\n",
    "df5.head(10)"
   ]
  },
  {
   "cell_type": "code",
   "execution_count": 440,
   "metadata": {},
   "outputs": [
    {
     "data": {
      "text/plain": [
       "dairy->dairy        2600\n",
       "fruit->fruit        1553\n",
       "drinks->drinks      1250\n",
       "fruit->checkout      524\n",
       "spices->spices       478\n",
       "drinks->checkout     426\n",
       "dairy->checkout      310\n",
       "spices->dairy        235\n",
       "fruit->dairy         225\n",
       "dairy->drinks        218\n",
       "spices->drinks       217\n",
       "drinks->fruit        186\n",
       "dairy->spices        183\n",
       "dairy->fruit         180\n",
       "spices->checkout     177\n",
       "drinks->spices       162\n",
       "fruit->drinks        130\n",
       "fruit->spices        122\n",
       "spices->fruit        119\n",
       "drinks->dairy         23\n",
       "dtype: int64"
      ]
     },
     "execution_count": 440,
     "metadata": {},
     "output_type": "execute_result"
    }
   ],
   "source": [
    "(df5['prev_loc']+ '->' + df5['location']).value_counts()"
   ]
  },
  {
   "cell_type": "code",
   "execution_count": 441,
   "metadata": {},
   "outputs": [
    {
     "data": {
      "text/plain": [
       "location  prev_loc\n",
       "checkout  dairy        310\n",
       "          drinks       426\n",
       "          fruit        524\n",
       "          spices       177\n",
       "dairy     dairy       2600\n",
       "Name: customer_no, dtype: int64"
      ]
     },
     "execution_count": 441,
     "metadata": {},
     "output_type": "execute_result"
    }
   ],
   "source": [
    "df5_a = df5.groupby(['location', 'prev_loc'])['customer_no'].count()\n",
    "df5_a.head()"
   ]
  },
  {
   "cell_type": "code",
   "execution_count": 442,
   "metadata": {},
   "outputs": [
    {
     "data": {
      "text/html": [
       "<div>\n",
       "<style scoped>\n",
       "    .dataframe tbody tr th:only-of-type {\n",
       "        vertical-align: middle;\n",
       "    }\n",
       "\n",
       "    .dataframe tbody tr th {\n",
       "        vertical-align: top;\n",
       "    }\n",
       "\n",
       "    .dataframe thead th {\n",
       "        text-align: right;\n",
       "    }\n",
       "</style>\n",
       "<table border=\"1\" class=\"dataframe\">\n",
       "  <thead>\n",
       "    <tr style=\"text-align: right;\">\n",
       "      <th>prev_loc</th>\n",
       "      <th>dairy</th>\n",
       "      <th>drinks</th>\n",
       "      <th>fruit</th>\n",
       "      <th>spices</th>\n",
       "    </tr>\n",
       "    <tr>\n",
       "      <th>location</th>\n",
       "      <th></th>\n",
       "      <th></th>\n",
       "      <th></th>\n",
       "      <th></th>\n",
       "    </tr>\n",
       "  </thead>\n",
       "  <tbody>\n",
       "    <tr>\n",
       "      <th>checkout</th>\n",
       "      <td>310</td>\n",
       "      <td>426</td>\n",
       "      <td>524</td>\n",
       "      <td>177</td>\n",
       "    </tr>\n",
       "    <tr>\n",
       "      <th>dairy</th>\n",
       "      <td>2600</td>\n",
       "      <td>23</td>\n",
       "      <td>225</td>\n",
       "      <td>235</td>\n",
       "    </tr>\n",
       "    <tr>\n",
       "      <th>drinks</th>\n",
       "      <td>218</td>\n",
       "      <td>1250</td>\n",
       "      <td>130</td>\n",
       "      <td>217</td>\n",
       "    </tr>\n",
       "    <tr>\n",
       "      <th>fruit</th>\n",
       "      <td>180</td>\n",
       "      <td>186</td>\n",
       "      <td>1553</td>\n",
       "      <td>119</td>\n",
       "    </tr>\n",
       "    <tr>\n",
       "      <th>spices</th>\n",
       "      <td>183</td>\n",
       "      <td>162</td>\n",
       "      <td>122</td>\n",
       "      <td>478</td>\n",
       "    </tr>\n",
       "  </tbody>\n",
       "</table>\n",
       "</div>"
      ],
      "text/plain": [
       "prev_loc  dairy  drinks  fruit  spices\n",
       "location                              \n",
       "checkout    310     426    524     177\n",
       "dairy      2600      23    225     235\n",
       "drinks      218    1250    130     217\n",
       "fruit       180     186   1553     119\n",
       "spices      183     162    122     478"
      ]
     },
     "execution_count": 442,
     "metadata": {},
     "output_type": "execute_result"
    }
   ],
   "source": [
    "ct = df5_a.unstack() \n",
    "ct"
   ]
  },
  {
   "cell_type": "code",
   "execution_count": 212,
   "metadata": {},
   "outputs": [],
   "source": [
    "p = (ct.T / ct.sum(axis = 1)).T"
   ]
  },
  {
   "cell_type": "code",
   "execution_count": 213,
   "metadata": {},
   "outputs": [
    {
     "data": {
      "text/html": [
       "<div>\n",
       "<style scoped>\n",
       "    .dataframe tbody tr th:only-of-type {\n",
       "        vertical-align: middle;\n",
       "    }\n",
       "\n",
       "    .dataframe tbody tr th {\n",
       "        vertical-align: top;\n",
       "    }\n",
       "\n",
       "    .dataframe thead th {\n",
       "        text-align: right;\n",
       "    }\n",
       "</style>\n",
       "<table border=\"1\" class=\"dataframe\">\n",
       "  <thead>\n",
       "    <tr style=\"text-align: right;\">\n",
       "      <th>prev_loc</th>\n",
       "      <th>dairy</th>\n",
       "      <th>drinks</th>\n",
       "      <th>fruit</th>\n",
       "      <th>spices</th>\n",
       "    </tr>\n",
       "    <tr>\n",
       "      <th>location</th>\n",
       "      <th></th>\n",
       "      <th></th>\n",
       "      <th></th>\n",
       "      <th></th>\n",
       "    </tr>\n",
       "  </thead>\n",
       "  <tbody>\n",
       "    <tr>\n",
       "      <th>checkout</th>\n",
       "      <td>0.215727</td>\n",
       "      <td>0.296451</td>\n",
       "      <td>0.364649</td>\n",
       "      <td>0.123173</td>\n",
       "    </tr>\n",
       "    <tr>\n",
       "      <th>dairy</th>\n",
       "      <td>0.843334</td>\n",
       "      <td>0.007460</td>\n",
       "      <td>0.072981</td>\n",
       "      <td>0.076224</td>\n",
       "    </tr>\n",
       "    <tr>\n",
       "      <th>drinks</th>\n",
       "      <td>0.120110</td>\n",
       "      <td>0.688705</td>\n",
       "      <td>0.071625</td>\n",
       "      <td>0.119559</td>\n",
       "    </tr>\n",
       "    <tr>\n",
       "      <th>fruit</th>\n",
       "      <td>0.088322</td>\n",
       "      <td>0.091266</td>\n",
       "      <td>0.762022</td>\n",
       "      <td>0.058391</td>\n",
       "    </tr>\n",
       "    <tr>\n",
       "      <th>spices</th>\n",
       "      <td>0.193651</td>\n",
       "      <td>0.171429</td>\n",
       "      <td>0.129101</td>\n",
       "      <td>0.505820</td>\n",
       "    </tr>\n",
       "  </tbody>\n",
       "</table>\n",
       "</div>"
      ],
      "text/plain": [
       "prev_loc     dairy    drinks     fruit    spices\n",
       "location                                        \n",
       "checkout  0.215727  0.296451  0.364649  0.123173\n",
       "dairy     0.843334  0.007460  0.072981  0.076224\n",
       "drinks    0.120110  0.688705  0.071625  0.119559\n",
       "fruit     0.088322  0.091266  0.762022  0.058391\n",
       "spices    0.193651  0.171429  0.129101  0.505820"
      ]
     },
     "execution_count": 213,
     "metadata": {},
     "output_type": "execute_result"
    }
   ],
   "source": [
    "p"
   ]
  },
  {
   "cell_type": "code",
   "execution_count": 443,
   "metadata": {},
   "outputs": [
    {
     "data": {
      "text/html": [
       "<div>\n",
       "<style scoped>\n",
       "    .dataframe tbody tr th:only-of-type {\n",
       "        vertical-align: middle;\n",
       "    }\n",
       "\n",
       "    .dataframe tbody tr th {\n",
       "        vertical-align: top;\n",
       "    }\n",
       "\n",
       "    .dataframe thead th {\n",
       "        text-align: right;\n",
       "    }\n",
       "</style>\n",
       "<table border=\"1\" class=\"dataframe\">\n",
       "  <thead>\n",
       "    <tr style=\"text-align: right;\">\n",
       "      <th>prev_loc</th>\n",
       "      <th>dairy</th>\n",
       "      <th>drinks</th>\n",
       "      <th>fruit</th>\n",
       "      <th>spices</th>\n",
       "    </tr>\n",
       "    <tr>\n",
       "      <th>location</th>\n",
       "      <th></th>\n",
       "      <th></th>\n",
       "      <th></th>\n",
       "      <th></th>\n",
       "    </tr>\n",
       "  </thead>\n",
       "  <tbody>\n",
       "    <tr>\n",
       "      <th>checkout</th>\n",
       "      <td>0.215727</td>\n",
       "      <td>0.296451</td>\n",
       "      <td>0.364649</td>\n",
       "      <td>0.123173</td>\n",
       "    </tr>\n",
       "    <tr>\n",
       "      <th>dairy</th>\n",
       "      <td>0.843334</td>\n",
       "      <td>0.007460</td>\n",
       "      <td>0.072981</td>\n",
       "      <td>0.076224</td>\n",
       "    </tr>\n",
       "    <tr>\n",
       "      <th>drinks</th>\n",
       "      <td>0.120110</td>\n",
       "      <td>0.688705</td>\n",
       "      <td>0.071625</td>\n",
       "      <td>0.119559</td>\n",
       "    </tr>\n",
       "    <tr>\n",
       "      <th>fruit</th>\n",
       "      <td>0.088322</td>\n",
       "      <td>0.091266</td>\n",
       "      <td>0.762022</td>\n",
       "      <td>0.058391</td>\n",
       "    </tr>\n",
       "    <tr>\n",
       "      <th>spices</th>\n",
       "      <td>0.193651</td>\n",
       "      <td>0.171429</td>\n",
       "      <td>0.129101</td>\n",
       "      <td>0.505820</td>\n",
       "    </tr>\n",
       "  </tbody>\n",
       "</table>\n",
       "</div>"
      ],
      "text/plain": [
       "prev_loc     dairy    drinks     fruit    spices\n",
       "location                                        \n",
       "checkout  0.215727  0.296451  0.364649  0.123173\n",
       "dairy     0.843334  0.007460  0.072981  0.076224\n",
       "drinks    0.120110  0.688705  0.071625  0.119559\n",
       "fruit     0.088322  0.091266  0.762022  0.058391\n",
       "spices    0.193651  0.171429  0.129101  0.505820"
      ]
     },
     "execution_count": 443,
     "metadata": {},
     "output_type": "execute_result"
    }
   ],
   "source": [
    "pd.crosstab(df5['location'], df5[ 'prev_loc'], normalize = 0)"
   ]
  }
 ],
 "metadata": {
  "kernelspec": {
   "display_name": "Python 3",
   "language": "python",
   "name": "python3"
  },
  "language_info": {
   "codemirror_mode": {
    "name": "ipython",
    "version": 3
   },
   "file_extension": ".py",
   "mimetype": "text/x-python",
   "name": "python",
   "nbconvert_exporter": "python",
   "pygments_lexer": "ipython3",
   "version": "3.7.6"
  }
 },
 "nbformat": 4,
 "nbformat_minor": 4
}
